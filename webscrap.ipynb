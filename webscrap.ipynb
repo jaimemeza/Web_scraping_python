{
 "cells": [
  {
   "cell_type": "code",
   "execution_count": 1,
   "metadata": {},
   "outputs": [],
   "source": [
    "import requests\n",
    "import pandas\n",
    "\n",
    "from bs4 import BeautifulSoup as bs"
   ]
  },
  {
   "cell_type": "code",
   "execution_count": 2,
   "metadata": {},
   "outputs": [],
   "source": [
    "url = 'https://www.brainyquote.com'\n",
    "href = '/topics/motivational-quotes'\n",
    "quotes = []"
   ]
  },
  {
   "cell_type": "code",
   "execution_count": 12,
   "metadata": {
    "tags": []
   },
   "outputs": [
    {
     "output_type": "execute_result",
     "data": {
      "text/plain": "                      Authors  \\\n0                   Confucius   \n1                  Mark Twain   \n2           Eleanor Roosevelt   \n3                Helen Keller   \n4                  Dalai Lama   \n5             Stephen Hawking   \n6                   Confucius   \n7  Johann Wolfgang von Goethe   \n8                  St. Jerome   \n9            George S. Patton   \n\n                                              Quotes  \n0  It does not matter how slowly you go as long a...  \n1    The secret of getting ahead is getting started.  \n2  With the new day comes new strength and new th...  \n3  Optimism is the faith that leads to achievemen...  \n4  Be kind whenever possible. It is always possible.  \n5  Look up at the stars and not down at your feet...  \n6  The will to win, the desire to succeed, the ur...  \n7  Knowing is not enough; we must apply. Willing ...  \n8  Good, better, best. Never let it rest. 'Til yo...  \n9  Accept the challenges so that you can feel the...  ",
      "text/html": "<div>\n<style scoped>\n    .dataframe tbody tr th:only-of-type {\n        vertical-align: middle;\n    }\n\n    .dataframe tbody tr th {\n        vertical-align: top;\n    }\n\n    .dataframe thead th {\n        text-align: right;\n    }\n</style>\n<table border=\"1\" class=\"dataframe\">\n  <thead>\n    <tr style=\"text-align: right;\">\n      <th></th>\n      <th>Authors</th>\n      <th>Quotes</th>\n    </tr>\n  </thead>\n  <tbody>\n    <tr>\n      <th>0</th>\n      <td>Confucius</td>\n      <td>It does not matter how slowly you go as long a...</td>\n    </tr>\n    <tr>\n      <th>1</th>\n      <td>Mark Twain</td>\n      <td>The secret of getting ahead is getting started.</td>\n    </tr>\n    <tr>\n      <th>2</th>\n      <td>Eleanor Roosevelt</td>\n      <td>With the new day comes new strength and new th...</td>\n    </tr>\n    <tr>\n      <th>3</th>\n      <td>Helen Keller</td>\n      <td>Optimism is the faith that leads to achievemen...</td>\n    </tr>\n    <tr>\n      <th>4</th>\n      <td>Dalai Lama</td>\n      <td>Be kind whenever possible. It is always possible.</td>\n    </tr>\n    <tr>\n      <th>5</th>\n      <td>Stephen Hawking</td>\n      <td>Look up at the stars and not down at your feet...</td>\n    </tr>\n    <tr>\n      <th>6</th>\n      <td>Confucius</td>\n      <td>The will to win, the desire to succeed, the ur...</td>\n    </tr>\n    <tr>\n      <th>7</th>\n      <td>Johann Wolfgang von Goethe</td>\n      <td>Knowing is not enough; we must apply. Willing ...</td>\n    </tr>\n    <tr>\n      <th>8</th>\n      <td>St. Jerome</td>\n      <td>Good, better, best. Never let it rest. 'Til yo...</td>\n    </tr>\n    <tr>\n      <th>9</th>\n      <td>George S. Patton</td>\n      <td>Accept the challenges so that you can feel the...</td>\n    </tr>\n  </tbody>\n</table>\n</div>"
     },
     "metadata": {},
     "execution_count": 12
    }
   ],
   "source": [
    "while not href == '' :\n",
    "    raw_html = requests.get(url+href)\n",
    "    html = bs(raw_html.text,'html.parser')\n",
    "    raw_quotes = html.findAll(class_= 'b-qt') # Find quotes\n",
    "    raw_authors = html.findAll(class_= 'bq-aut') #Find authors\n",
    "    raw_href = html.find(name='a',text='Next', class_='')\n",
    "\n",
    "    href = raw_href['href'] if raw_href and 'href' in raw_href.attrs else ''\n",
    "\n",
    "    if len(raw_authors) == len(raw_quotes):\n",
    "        for i in range(len(raw_quotes)):\n",
    "            quotes.append([raw_authors[i].contents[0], raw_quotes[i].contents[0]])\n",
    "\n",
    "df = pandas.DataFrame(data=quotes)\n",
    "df.columns = ['Authors', 'Quotes']\n",
    "df.head(10)"
   ]
  },
  {
   "cell_type": "code",
   "execution_count": null,
   "metadata": {},
   "outputs": [],
   "source": []
  },
  {
   "cell_type": "code",
   "execution_count": null,
   "metadata": {},
   "outputs": [],
   "source": []
  }
 ],
 "metadata": {
  "language_info": {
   "codemirror_mode": {
    "name": "ipython",
    "version": 3
   },
   "file_extension": ".py",
   "mimetype": "text/x-python",
   "name": "python",
   "nbconvert_exporter": "python",
   "pygments_lexer": "ipython3",
   "version": "3.8.3-final"
  },
  "orig_nbformat": 2,
  "kernelspec": {
   "name": "python38364bitc5fce4943f3b46838b90fc0ab4cc65d9",
   "display_name": "Python 3.8.3 64-bit"
  }
 },
 "nbformat": 4,
 "nbformat_minor": 2
}